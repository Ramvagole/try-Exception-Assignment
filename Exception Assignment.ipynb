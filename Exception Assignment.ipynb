{
 "cells": [
  {
   "cell_type": "code",
   "execution_count": null,
   "id": "d9944561-b58e-4177-a034-8a97617156db",
   "metadata": {},
   "outputs": [],
   "source": [
    "#Q1):-\n",
    "An exception is an event, which occurs during the execution of a program that disrupts the normal flow of the program's instructions.\n",
    "An error is an issue in a program that prevents the program from completing its task.\n",
    "In comparison, an exception is a condition that interrupts the normal flow of the program."
   ]
  },
  {
   "cell_type": "code",
   "execution_count": 5,
   "id": "c3c1bf4c-2215-47a0-9f84-03759621ce9f",
   "metadata": {},
   "outputs": [
    {
     "ename": "ZeroDivisionError",
     "evalue": "division by zero",
     "output_type": "error",
     "traceback": [
      "\u001b[0;31m---------------------------------------------------------------------------\u001b[0m",
      "\u001b[0;31mZeroDivisionError\u001b[0m                         Traceback (most recent call last)",
      "Cell \u001b[0;32mIn[5], line 6\u001b[0m\n\u001b[1;32m      4\u001b[0m a\u001b[38;5;241m=\u001b[39m\u001b[38;5;241m10\u001b[39m\n\u001b[1;32m      5\u001b[0m b\u001b[38;5;241m=\u001b[39m\u001b[38;5;241m0\u001b[39m\n\u001b[0;32m----> 6\u001b[0m c\u001b[38;5;241m=\u001b[39m\u001b[43ma\u001b[49m\u001b[38;5;241;43m/\u001b[39;49m\u001b[43mb\u001b[49m\n\u001b[1;32m      7\u001b[0m \u001b[38;5;28mprint\u001b[39m(c)\n",
      "\u001b[0;31mZeroDivisionError\u001b[0m: division by zero"
     ]
    }
   ],
   "source": [
    "#Q2):-\n",
    "\"\"\"If the exception is not handled by an except clause, the exception is re-raised after the finally clause has been executed.\n",
    "Example:-\"\"\"\n",
    "a=10\n",
    "b=0\n",
    "c=a/b\n",
    "print(c)"
   ]
  },
  {
   "cell_type": "code",
   "execution_count": 6,
   "id": "1a82d5b8-aeb0-4fb5-8892-e3bf4cd24175",
   "metadata": {},
   "outputs": [
    {
     "name": "stdin",
     "output_type": "stream",
     "text": [
      "enter the value of a: 10\n",
      "enter the value of b: 0\n"
     ]
    },
    {
     "name": "stdout",
     "output_type": "stream",
     "text": [
      "This is a exception block: division by zero\n"
     ]
    }
   ],
   "source": [
    "#Q3):-\n",
    "\"\"\"The try and except block in Python is used to catch and handle exceptions.\"\"\"\n",
    "\n",
    "try:\n",
    "    a=int(input(\"enter the value of a:\"))\n",
    "    b=int(input(\"enter the value of b:\"))\n",
    "    c=a/b\n",
    "except Exception as e:\n",
    "    print(\"This is a exception block:\",e)"
   ]
  },
  {
   "cell_type": "code",
   "execution_count": null,
   "id": "c8fb7683-9679-424d-8636-d4e82b487900",
   "metadata": {},
   "outputs": [],
   "source": [
    "#Q4):-\n",
    "The try block lets you test a block of code for errors.\n",
    "Example:-\n",
    "try:\n",
    "    print(x)\n",
    "    \n",
    "The except block lets you handle the error.\n",
    "Example:-\n",
    "try:\n",
    "    print(x)\n",
    "except:\n",
    "    print(\"An exception occurred\")\n",
    "\n",
    "The else block lets you execute code when there is no error.\n",
    "Example:-\n",
    "try:\n",
    "    print(\"Hello\")\n",
    "except:\n",
    "    print(\"Something went wrong\")\n",
    "else:\n",
    "    print(\"Nothing went wrong\")\n",
    "\n",
    "The finally block lets you execute code, regardless of the result of the try- and except blocks.\n",
    "Example:-\n",
    "try:\n",
    "    print(x)\n",
    "except:\n",
    "    print(\"Something went wrong\")\n",
    "finally:\n",
    "    print(\"The 'try except' is finished\")"
   ]
  },
  {
   "cell_type": "code",
   "execution_count": null,
   "id": "06ff64de-c149-4d7e-a4ae-7df99a6b2af3",
   "metadata": {},
   "outputs": [],
   "source": [
    "#Q5):-\n",
    "Exceptions need to be derived from the Exception class, either directly or indirectly.\n",
    "Although not mandatory, most of the exceptions are named as names that end in “Error” similar to the naming of the standard exceptions in python.\n",
    "Example:-\n",
    "class student(Exception):\n",
    "    def __init__(self,age):\n",
    "        self.age=age\n",
    "\n",
    "def student(age):\n",
    "    if age<0:\n",
    "        raise student(\"Age is less thaan zero\")\n",
    "    elif age>20:\n",
    "        raise student(\"Age is more than Twenty\")\n",
    "    else:\n",
    "        print(\"Age is valid\")\n",
    "try:\n",
    "    age=int(input(\"Enter the age of student:\"))\n",
    "    student(age)\n",
    "except student as s:\n",
    "    print(s)"
   ]
  },
  {
   "cell_type": "code",
   "execution_count": 7,
   "id": "8019d01f-657e-47f5-857e-065b79c6cd6d",
   "metadata": {},
   "outputs": [
    {
     "name": "stdin",
     "output_type": "stream",
     "text": [
      "Enter the age of student: 15\n"
     ]
    },
    {
     "name": "stdout",
     "output_type": "stream",
     "text": [
      "Age is valid\n",
      "valid age Hhh...\n",
      "Congragulation........\n"
     ]
    }
   ],
   "source": [
    "#Q6):-\n",
    "class student(Exception):\n",
    "    def __init__(self,age):\n",
    "        self.age=age\n",
    "\n",
    "def student(age):\n",
    "    if age<0:\n",
    "        raise student(\"Age is less thaan zero\")\n",
    "    elif age>20:\n",
    "        raise student(\"Age is more than Twenty\")\n",
    "    else:\n",
    "        print(\"Age is valid\")\n",
    "try:\n",
    "    age=int(input(\"Enter the age of student:\"))\n",
    "    student(age)\n",
    "except student as s:\n",
    "    print(s)\n",
    "else:\n",
    "    print(\"valid age Hhh...\")\n",
    "finally:\n",
    "          print(\"Congragulation........\")"
   ]
  }
 ],
 "metadata": {
  "kernelspec": {
   "display_name": "Python 3 (ipykernel)",
   "language": "python",
   "name": "python3"
  },
  "language_info": {
   "codemirror_mode": {
    "name": "ipython",
    "version": 3
   },
   "file_extension": ".py",
   "mimetype": "text/x-python",
   "name": "python",
   "nbconvert_exporter": "python",
   "pygments_lexer": "ipython3",
   "version": "3.10.8"
  }
 },
 "nbformat": 4,
 "nbformat_minor": 5
}
